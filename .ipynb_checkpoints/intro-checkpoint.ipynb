{
 "cells": [
  {
   "cell_type": "markdown",
   "metadata": {},
   "source": [
    "## Objectives\n",
    "\n",
    "1. Define Sets: collection of unique elements\n",
    "2. Define Probability: chance that something will happen\n",
    "3. Permutations: number of ways of ordering a collection of objects\n",
    "4. Combinations: order doesnt matter\n",
    "5. Conditional Probability: chance an event will happen given something else has happened\n",
    "6. Total Probability: get the total number of elements by adding subsets."
   ]
  },
  {
   "cell_type": "markdown",
   "metadata": {},
   "source": [
    "## Sets\n",
    "\n",
    "In probability theory, a set is denoted as a well-defined collection of objects.\n",
    "\n",
    "Mathematically, you can define a set by $S$. If an element $x$ belongs to a set $S$, then you'd write $x \\in S$. On the other hand, if $x$ does not belong to a set $S$, then you'd write $x\\notin S$.\n",
    "\n",
    "Operations on Sets:\n",
    "\n",
    "1. Union of 2 sets\n",
    "2. Intersection of 2 sets\n",
    "3. Relative Complement\n",
    "4. Absolute Complement"
   ]
  },
  {
   "cell_type": "markdown",
   "metadata": {},
   "source": [
    "## Probability\n",
    "\n",
    "Important terms:\n",
    "\n",
    "1. random experiment: act of doing something that needs to be measured\n",
    "2. event space: set of all possible outcomes\n",
    "\n",
    "\n",
    "$$P(E) = \\lim_{n\\rightarrow\\infty} \\dfrac{S{(n)}}{n}$$\n",
    "\n",
    "Probability axioms:\n",
    "\n",
    "1. Positivity\n",
    "2. Probability of a certain event\n",
    "3. Additivity: "
   ]
  },
  {
   "cell_type": "markdown",
   "metadata": {},
   "source": [
    "## Permutations \n",
    "\n",
    "The problem setting in general is that, there are $n$ objects, and we want to know how many *permutations* are possible. General solution to this $n$, this means that the number of permutations with $n$ distinct objects is $n!$, or the factorial of $n$.\n",
    "\n",
    "\n",
    "### For a subset\n",
    "\n",
    "$n*(n-1)*...*(n-k+1)$ or in other words, $P_{k}^{n}= \\dfrac{n!}{(n-k)!}$\n",
    "\n",
    "This is known as a $k$-permutation of $n$.\n",
    "\n",
    "The idea is here that we only \"care\" about the order of the first $k$ objects. The order of the other $(n-k)$ objects doesn't matter, hence they're left out of the equation."
   ]
  },
  {
   "cell_type": "markdown",
   "metadata": {},
   "source": [
    "## Combinations\n",
    "\n",
    "In some settings, the order of the selection is not important.\n",
    "In general, combinations answer the question: \"How many ways can we create a subset $k$ out of $n$ objects?\". The subset is not ordered. \n",
    "\n",
    "$$\\displaystyle\\binom{n}{k} = \\dfrac{P_{k}^{n}}{k!}=\\dfrac{ \\dfrac{n!}{(n-k)!}}{k!} = \\dfrac{n!}{(n-k)!k!}$$\n"
   ]
  },
  {
   "cell_type": "markdown",
   "metadata": {},
   "source": [
    "## Lets try this exercise! Message me your answers on slack or here!\n",
    "\n",
    "https://www.khanacademy.org/math/statistics-probability/counting-permutations-and-combinations/test/counting-permutations-and-combinations-unit-test?modal=1"
   ]
  },
  {
   "cell_type": "markdown",
   "metadata": {},
   "source": [
    "## Conditional Probability \n",
    "\n",
    "Important terms:\n",
    "\n",
    "1. Independent Events: Events  A and  B  are independent when, the occurrence of  A  has no effect on whether B  will occur (or not).\n",
    "2. Disjoint events: EVents A and B are disjoint if A occurring means B can't occur.\n",
    "3. dependent Events: Events  A and  B  are dependent when, the occurrence of  A  has an effect on whether B  will occur (or not).\n",
    "\n",
    "\n",
    "### Conditional Probability\n",
    "When the result of one or more trials influences the result of the upcoming trials\n",
    "\n",
    "Important Rules:\n",
    "\n",
    "1. Product Rule: The **product rule** was used to derive the conditional probability formula above, but often used as is in situations where the conditional probability is easy to compute, but the probability of intersections of events isn't. \n",
    "\n",
    "The intersection of events $A$ and $B$ can be given by\n",
    "\n",
    "\\begin{align}\n",
    "    P(A \\cap B) = P(B) P(A \\mid B) = P(A) P(B \\mid A)\n",
    "\\end{align}\n",
    "\n",
    "2. Chain Rule: The **chain rule** (also called the **general product rule**) permits the calculation of any member of the joint distribution of a set of random variables using only conditional probabilities. \n",
    "\n",
    "Recall the product rule: \n",
    "\n",
    "$P(A \\cap B) = P(A \\mid B) P(B)$\n",
    "\n",
    "When you extend this for three variables:\n",
    "\n",
    "$P(A\\cap B \\cap C) = P(A\\cap( B \\cap C)) = P(A\\mid B \\cap C) P(B \\cap C) = P(A \\mid B \\cap C) P(B \\mid C) P(C)$\n",
    "\n",
    "And you can keep extending this to $n$ variables:\n",
    "\n",
    "$$P(A_1 \\cap A_2 \\cap \\ldots \\cap A_n) = P(A_1 \\mid A_2 \\cap \\ldots\\cap A_n) P(A_2 \\mid A_3  \\cap \\ldots \\cap \\ A_n) P(A_{n-1}|A_n) P(A_n)$$\n",
    "\n",
    "This idea is known as the **chain rule**.\n",
    "\n",
    "3. Bayes' Theorem: The **Bayes theorem**, which is the outcome of this section. Below is the formula that we will dig deeper into , in upcoming lessons.\n",
    "\n",
    "\\begin{align}\n",
    "    P(A|B) = \\frac{P(B|A)P(A)}{P(B)} \\text{-        this follows from Theorem 1}\n",
    "\\end{align}\n"
   ]
  },
  {
   "cell_type": "markdown",
   "metadata": {},
   "source": [
    "## Additional practice examples\n",
    "\n",
    "1. https://betterexplained.com/articles/easy-permutations-and-combinations/\n",
    "2. https://faculty.atu.edu/mfinan/2043/section35.pdf"
   ]
  },
  {
   "cell_type": "code",
   "execution_count": null,
   "metadata": {},
   "outputs": [],
   "source": []
  }
 ],
 "metadata": {
  "kernelspec": {
   "display_name": "Python 3",
   "language": "python",
   "name": "python3"
  },
  "language_info": {
   "codemirror_mode": {
    "name": "ipython",
    "version": 3
   },
   "file_extension": ".py",
   "mimetype": "text/x-python",
   "name": "python",
   "nbconvert_exporter": "python",
   "pygments_lexer": "ipython3",
   "version": "3.8.5"
  },
  "toc": {
   "base_numbering": 1,
   "nav_menu": {},
   "number_sections": true,
   "sideBar": true,
   "skip_h1_title": false,
   "title_cell": "Table of Contents",
   "title_sidebar": "Contents",
   "toc_cell": false,
   "toc_position": {},
   "toc_section_display": true,
   "toc_window_display": false
  },
  "varInspector": {
   "cols": {
    "lenName": 16,
    "lenType": 16,
    "lenVar": 40
   },
   "kernels_config": {
    "python": {
     "delete_cmd_postfix": "",
     "delete_cmd_prefix": "del ",
     "library": "var_list.py",
     "varRefreshCmd": "print(var_dic_list())"
    },
    "r": {
     "delete_cmd_postfix": ") ",
     "delete_cmd_prefix": "rm(",
     "library": "var_list.r",
     "varRefreshCmd": "cat(var_dic_list()) "
    }
   },
   "types_to_exclude": [
    "module",
    "function",
    "builtin_function_or_method",
    "instance",
    "_Feature"
   ],
   "window_display": false
  }
 },
 "nbformat": 4,
 "nbformat_minor": 2
}
